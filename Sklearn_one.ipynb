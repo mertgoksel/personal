{
 "cells": [
  {
   "cell_type": "code",
   "execution_count": 1,
   "metadata": {},
   "outputs": [],
   "source": [
    "import numpy as np\n",
    "import pandas as pd\n",
    "import matplotlib.pyplot as plt\n",
    "from sklearn.model_selection import train_test_split\n",
    "import tensorflow as tf\n",
    "from tensorflow import keras\n",
    "from tensorflow.keras.preprocessing import image_dataset_from_directory\n",
    "import cv2\n",
    "import glob\n",
    "import os"
   ]
  },
  {
   "cell_type": "code",
   "execution_count": 2,
   "metadata": {},
   "outputs": [],
   "source": [
    "chocolate = glob.glob('data/photos/chocolate/*.*')\n",
    "cookie = glob.glob('data/photos/cookie/*.*')\n",
    "drink = glob.glob('data/photos/drink/*.*')\n",
    "bleach = glob.glob('data/photos/bleach/*.*')\n",
    "deodorant = glob.glob('data/photos/deodorant/*.*')\n",
    "tooth_paste = glob.glob('data/photos/tooth paste/*.*')\n",
    "olives = glob.glob('data/photos/olives/*.*')\n",
    "meat = glob.glob('data/photos/meat/*.*')\n",
    "milk = glob.glob('data/photos/milk/*.*')\n",
    "\n",
    "thedic = {0:\"chocolate\",\n",
    "        1:\"cookie\",\n",
    "        2:\"drink\",\n",
    "        3:\"bleach\",\n",
    "        4:\"deodorant\",\n",
    "        5:\"tooth paste\",\n",
    "        6:\"olives\",\n",
    "        7:\"meat\",\n",
    "        8:\"milk\"}\n",
    "\n",
    "data = []\n",
    "labels = []\n",
    "\n",
    "for i in chocolate:   \n",
    "    image=tf.keras.preprocessing.image.load_img(i, color_mode='rgb', \n",
    "    target_size= (100,100))\n",
    "    image=np.array(image)\n",
    "    data.append(image)\n",
    "    labels.append(0)\n",
    "for i in cookie:   \n",
    "    image=tf.keras.preprocessing.image.load_img(i, color_mode='rgb', \n",
    "    target_size= (100,100))\n",
    "    image=np.array(image)\n",
    "    data.append(image)\n",
    "    labels.append(1)\n",
    "for i in drink:   \n",
    "    image=tf.keras.preprocessing.image.load_img(i, color_mode='rgb', \n",
    "    target_size= (100,100))\n",
    "    image=np.array(image)\n",
    "    data.append(image)\n",
    "    labels.append(2)\n",
    "for i in bleach:   \n",
    "    image=tf.keras.preprocessing.image.load_img(i, color_mode='rgb', \n",
    "    target_size= (100,100))\n",
    "    image=np.array(image)\n",
    "    data.append(image)\n",
    "    labels.append(3)\n",
    "for i in deodorant:   \n",
    "    image=tf.keras.preprocessing.image.load_img(i, color_mode='rgb', \n",
    "    target_size= (100,100))\n",
    "    image=np.array(image)\n",
    "    data.append(image)\n",
    "    labels.append(4)\n",
    "for i in tooth_paste:   \n",
    "    image=tf.keras.preprocessing.image.load_img(i, color_mode='rgb', \n",
    "    target_size= (100,100))\n",
    "    image=np.array(image)\n",
    "    data.append(image)\n",
    "    labels.append(5)\n",
    "for i in olives:   \n",
    "    image=tf.keras.preprocessing.image.load_img(i, color_mode='rgb', \n",
    "    target_size= (100,100))\n",
    "    image=np.array(image)\n",
    "    data.append(image)\n",
    "    labels.append(6)\n",
    "for i in meat:   \n",
    "    image=tf.keras.preprocessing.image.load_img(i, color_mode='rgb', \n",
    "    target_size= (100,100))\n",
    "    image=np.array(image)\n",
    "    data.append(image)\n",
    "    labels.append(7)\n",
    "for i in milk:   \n",
    "    image=tf.keras.preprocessing.image.load_img(i, color_mode='rgb', \n",
    "    target_size= (100,100))\n",
    "    image=np.array(image)\n",
    "    data.append(image)\n",
    "    labels.append(8)"
   ]
  },
  {
   "cell_type": "code",
   "execution_count": 3,
   "metadata": {},
   "outputs": [],
   "source": [
    "data = np.array(data)\n",
    "labels = np.array(labels)\n",
    "\n",
    "train_img, test_img, train_lb, test_lb = train_test_split(data, labels, test_size=0.2,\n",
    "                                                random_state=42)"
   ]
  },
  {
   "cell_type": "code",
   "execution_count": 12,
   "metadata": {},
   "outputs": [],
   "source": [
    "train_img = train_img/255 #Since RGB levels are from 0 to 255 If photos have different encodings change accordingly\n",
    "test_img = test_img/255"
   ]
  },
  {
   "cell_type": "code",
   "execution_count": 5,
   "metadata": {},
   "outputs": [],
   "source": [
    "train_img = train_img.astype(\"float32\")\n",
    "test_img = test_img.astype(\"float32\")"
   ]
  },
  {
   "cell_type": "code",
   "execution_count": 6,
   "metadata": {},
   "outputs": [],
   "source": [
    "train_img = np.reshape(train_img,(-1,100,100,3))\n",
    "test_img = np.reshape(test_img,(-1,100,100,3))"
   ]
  },
  {
   "cell_type": "code",
   "execution_count": 16,
   "metadata": {},
   "outputs": [],
   "source": [
    "model = keras.Sequential([\n",
    "    keras.layers.Conv2D(64, 4, activation=\"relu\", input_shape=(100,100,3)),\n",
    "    keras.layers.Conv2D(32, 4, activation=\"relu\"),\n",
    "    keras.layers.Flatten(),\n",
    "    keras.layers.Dense(9, activation=\"softmax\")\n",
    "])"
   ]
  },
  {
   "cell_type": "code",
   "execution_count": 18,
   "metadata": {},
   "outputs": [],
   "source": [
    "model.compile(optimizer=\"adam\",\n",
    "             loss=keras.losses.SparseCategoricalCrossentropy(),\n",
    "             metrics=[\"accuracy\"])"
   ]
  },
  {
   "cell_type": "code",
   "execution_count": 21,
   "metadata": {},
   "outputs": [
    {
     "name": "stdout",
     "output_type": "stream",
     "text": [
      "Epoch 1/20\n",
      "4/4 [==============================] - 0s 51ms/step - loss: 2.1131 - accuracy: 0.2250 - val_loss: 2.1208 - val_accuracy: 0.3000\n",
      "Epoch 2/20\n",
      "4/4 [==============================] - 0s 35ms/step - loss: 2.0553 - accuracy: 0.2625 - val_loss: 2.0629 - val_accuracy: 0.4000\n",
      "Epoch 3/20\n",
      "4/4 [==============================] - 0s 33ms/step - loss: 2.0477 - accuracy: 0.3250 - val_loss: 2.0493 - val_accuracy: 0.4000\n",
      "Epoch 4/20\n",
      "4/4 [==============================] - 0s 36ms/step - loss: 1.9451 - accuracy: 0.3375 - val_loss: 1.9970 - val_accuracy: 0.3500\n",
      "Epoch 5/20\n",
      "4/4 [==============================] - 0s 34ms/step - loss: 1.9007 - accuracy: 0.4125 - val_loss: 1.9762 - val_accuracy: 0.3500\n",
      "Epoch 6/20\n",
      "4/4 [==============================] - 0s 34ms/step - loss: 1.7879 - accuracy: 0.4375 - val_loss: 1.9128 - val_accuracy: 0.3500\n",
      "Epoch 7/20\n",
      "4/4 [==============================] - 0s 34ms/step - loss: 1.6769 - accuracy: 0.4250 - val_loss: 1.8796 - val_accuracy: 0.3500\n",
      "Epoch 8/20\n",
      "4/4 [==============================] - 0s 35ms/step - loss: 1.6026 - accuracy: 0.4250 - val_loss: 1.9111 - val_accuracy: 0.3000\n",
      "Epoch 9/20\n",
      "4/4 [==============================] - 0s 34ms/step - loss: 1.5304 - accuracy: 0.4500 - val_loss: 1.9557 - val_accuracy: 0.3500\n",
      "Epoch 10/20\n",
      "4/4 [==============================] - 0s 35ms/step - loss: 1.4111 - accuracy: 0.5375 - val_loss: 2.0313 - val_accuracy: 0.3500\n",
      "Epoch 11/20\n",
      "4/4 [==============================] - 0s 36ms/step - loss: 1.3295 - accuracy: 0.5500 - val_loss: 2.1187 - val_accuracy: 0.3500\n",
      "Epoch 12/20\n",
      "4/4 [==============================] - 0s 35ms/step - loss: 1.2383 - accuracy: 0.5625 - val_loss: 2.1519 - val_accuracy: 0.3000\n",
      "Epoch 13/20\n",
      "4/4 [==============================] - 0s 34ms/step - loss: 1.2269 - accuracy: 0.6125 - val_loss: 2.1596 - val_accuracy: 0.3000\n",
      "Epoch 14/20\n",
      "4/4 [==============================] - 0s 35ms/step - loss: 1.2298 - accuracy: 0.5500 - val_loss: 2.2889 - val_accuracy: 0.3000\n",
      "Epoch 15/20\n",
      "4/4 [==============================] - 0s 57ms/step - loss: 1.0905 - accuracy: 0.6500 - val_loss: 2.3732 - val_accuracy: 0.3500\n",
      "Epoch 16/20\n",
      "4/4 [==============================] - 0s 35ms/step - loss: 1.1267 - accuracy: 0.5750 - val_loss: 2.5981 - val_accuracy: 0.3000\n",
      "Epoch 17/20\n",
      "4/4 [==============================] - 0s 34ms/step - loss: 1.2031 - accuracy: 0.6125 - val_loss: 2.5547 - val_accuracy: 0.2500\n",
      "Epoch 18/20\n",
      "4/4 [==============================] - 0s 34ms/step - loss: 1.1030 - accuracy: 0.6000 - val_loss: 2.5929 - val_accuracy: 0.2500\n",
      "Epoch 19/20\n",
      "4/4 [==============================] - 0s 35ms/step - loss: 0.9722 - accuracy: 0.6125 - val_loss: 2.6445 - val_accuracy: 0.3500\n",
      "Epoch 20/20\n",
      "4/4 [==============================] - 0s 34ms/step - loss: 0.9354 - accuracy: 0.6500 - val_loss: 2.7388 - val_accuracy: 0.2500\n"
     ]
    },
    {
     "data": {
      "text/plain": [
       "<tensorflow.python.keras.callbacks.History at 0x25eb72008b0>"
      ]
     },
     "execution_count": 21,
     "metadata": {},
     "output_type": "execute_result"
    }
   ],
   "source": [
    "model.fit(train_img, train_lb, epochs=20, batch_size=25, validation_data=(test_img, test_lb))"
   ]
  },
  {
   "cell_type": "code",
   "execution_count": 22,
   "metadata": {},
   "outputs": [
    {
     "name": "stdout",
     "output_type": "stream",
     "text": [
      "1/1 [==============================] - 0s 20ms/step - loss: 2.7388 - accuracy: 0.2500\n"
     ]
    },
    {
     "data": {
      "text/plain": [
       "[2.738830089569092, 0.25]"
      ]
     },
     "execution_count": 22,
     "metadata": {},
     "output_type": "execute_result"
    }
   ],
   "source": [
    "model.evaluate(test_img, test_lb)"
   ]
  }
 ],
 "metadata": {
  "kernelspec": {
   "display_name": "Python 3.7 (tensorflow)",
   "language": "python",
   "name": "tensorflow"
  },
  "language_info": {
   "codemirror_mode": {
    "name": "ipython",
    "version": 3
   },
   "file_extension": ".py",
   "mimetype": "text/x-python",
   "name": "python",
   "nbconvert_exporter": "python",
   "pygments_lexer": "ipython3",
   "version": "3.8.0"
  }
 },
 "nbformat": 4,
 "nbformat_minor": 4
}
